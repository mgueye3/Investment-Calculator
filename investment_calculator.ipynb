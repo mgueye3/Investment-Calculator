{
 "cells": [
  {
   "cell_type": "markdown",
   "id": "257df35e-8b67-460c-a8f4-22600f69964e",
   "metadata": {},
   "source": [
    "**Description:**\n",
    "  \n",
    "This script calculates the future investment value based on the initial investment amount,\n",
    "annual interest rate, and the number of years the investment is held.\n"
   ]
  },
  {
   "cell_type": "code",
   "execution_count": null,
   "id": "0e69a254-0ceb-4634-9cc0-2ed1ff5d75c4",
   "metadata": {},
   "outputs": [],
   "source": [
    "def calculate_future_investment():\n",
    "    \"\"\"Calculates the future value of an investment with compound interest.\"\"\"\n",
    "    try:\n",
    "        investment = float(input(\"Enter investment amount: \"))\n",
    "        annual_rate = float(input(\"Enter annual interest rate (%): \"))\n",
    "        years = int(input(\"Enter number of years: \"))\n",
    "        \n",
    "        monthly_interest_rate = annual_rate / 100 / 12\n",
    "        months = years * 12\n",
    "        future_value = investment * (1 + monthly_interest_rate) ** months\n",
    "        \n",
    "        print(f\"Future investment value: {future_value:.2f}\")\n",
    "    except ValueError:\n",
    "        print(\"Invalid input. Please enter numeric values.\")\n",
    "\n",
    "def main():\n",
    "    \"\"\"Main function to execute the investment calculation.\"\"\"\n",
    "    calculate_future_investment()\n",
    "\n",
    "if __name__ == \"__main__\":\n",
    "    main()\n"
   ]
  }
 ],
 "metadata": {
  "kernelspec": {
   "display_name": "Python 3 (ipykernel)",
   "language": "python",
   "name": "python3"
  },
  "language_info": {
   "codemirror_mode": {
    "name": "ipython",
    "version": 3
   },
   "file_extension": ".py",
   "mimetype": "text/x-python",
   "name": "python",
   "nbconvert_exporter": "python",
   "pygments_lexer": "ipython3",
   "version": "3.13.2"
  }
 },
 "nbformat": 4,
 "nbformat_minor": 5
}
